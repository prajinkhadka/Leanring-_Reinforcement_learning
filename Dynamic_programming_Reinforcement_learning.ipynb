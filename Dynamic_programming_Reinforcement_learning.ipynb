{
  "nbformat": 4,
  "nbformat_minor": 0,
  "metadata": {
    "colab": {
      "name": "Dynamic_programming_Reinforcement_learning.ipynb",
      "provenance": [],
      "collapsed_sections": []
    },
    "kernelspec": {
      "name": "python3",
      "display_name": "Python 3"
    },
    "accelerator": "GPU"
  },
  "cells": [
    {
      "cell_type": "markdown",
      "metadata": {
        "id": "pkONhbKTMFo9",
        "colab_type": "text"
      },
      "source": [
        "## Enviroment from openAI gym , slighlty twisted so that it bhevaes as MDP, knows the dynamichs of the system\n",
        "\n",
        "https://github.com/openai/gym/blob/master/gym/envs/toy_text/frozen_lake.py"
      ]
    },
    {
      "cell_type": "code",
      "metadata": {
        "id": "R58lMwE4wV1v",
        "colab_type": "code",
        "colab": {}
      },
      "source": [
        "## openAI gym , Frozen Lake Enviroment\n",
        "\n",
        "import numpy as np\n",
        "import sys\n",
        "from six import StringIO, b\n",
        "\n",
        "from gym import utils\n",
        "from gym.envs.toy_text import discrete\n",
        "\n",
        "LEFT = 0\n",
        "DOWN = 1\n",
        "RIGHT = 2\n",
        "UP = 3\n",
        "\n",
        "MAPS = {\n",
        "    \"4x4\": [\n",
        "        \"SFFF\",\n",
        "        \"FHFH\",\n",
        "        \"FFFH\",\n",
        "        \"HFFG\"\n",
        "    ],\n",
        "    \"8x8\": [\n",
        "        \"SFFFFFFF\",\n",
        "        \"FFFFFFFF\",\n",
        "        \"FFFHFFFF\",\n",
        "        \"FFFFFHFF\",\n",
        "        \"FFFHFFFF\",\n",
        "        \"FHHFFFHF\",\n",
        "        \"FHFFHFHF\",\n",
        "        \"FFFHFFFG\"\n",
        "    ],\n",
        "}\n",
        "\n",
        "class FrozenLakeEnv(discrete.DiscreteEnv):\n",
        "    \"\"\"\n",
        "    Winter is here. You and your friends were tossing around a frisbee at the park\n",
        "    when you made a wild throw that left the frisbee out in the middle of the lake.\n",
        "    The water is mostly frozen, but there are a few holes where the ice has melted.\n",
        "    If you step into one of those holes, you'll fall into the freezing water.\n",
        "    At this time, there's an international frisbee shortage, so it's absolutely imperative that\n",
        "    you navigate across the lake and retrieve the disc.\n",
        "    However, the ice is slippery, so you won't always move in the direction you intend.\n",
        "    The surface is described using a grid like the following\n",
        "\n",
        "        SFFF\n",
        "        FHFH\n",
        "        FFFH\n",
        "        HFFG\n",
        "\n",
        "    S : starting point, safe\n",
        "    F : frozen surface, safe\n",
        "    H : hole, fall to your doom\n",
        "    G : goal, where the frisbee is located\n",
        "\n",
        "    The episode ends when you reach the goal or fall in a hole.\n",
        "    You receive a reward of 1 if you reach the goal, and zero otherwise.\n",
        "\n",
        "    \"\"\"\n",
        "\n",
        "    metadata = {'render.modes': ['human', 'ansi']}\n",
        "\n",
        "    def __init__(self, desc=None, map_name=\"4x4\",is_slippery=True):\n",
        "        if desc is None and map_name is None:\n",
        "            raise ValueError('Must provide either desc or map_name')\n",
        "        elif desc is None:\n",
        "            desc = MAPS[map_name]\n",
        "        self.desc = desc = np.asarray(desc,dtype='c')\n",
        "        self.nrow, self.ncol = nrow, ncol = desc.shape\n",
        "\n",
        "        nA = 4\n",
        "        nS = nrow * ncol\n",
        "\n",
        "        isd = np.array(desc == b'S').astype('float64').ravel()\n",
        "        isd /= isd.sum()\n",
        "\n",
        "        P = {s : {a : [] for a in range(nA)} for s in range(nS)}\n",
        "\n",
        "        def to_s(row, col):\n",
        "            return row*ncol + col\n",
        "        def inc(row, col, a):\n",
        "            if a==0: # left\n",
        "                col = max(col-1,0)\n",
        "            elif a==1: # down\n",
        "                row = min(row+1,nrow-1)\n",
        "            elif a==2: # right\n",
        "                col = min(col+1,ncol-1)\n",
        "            elif a==3: # up\n",
        "                row = max(row-1,0)\n",
        "            return (row, col)\n",
        "\n",
        "        for row in range(nrow):\n",
        "            for col in range(ncol):\n",
        "                s = to_s(row, col)\n",
        "                for a in range(4):\n",
        "                    li = P[s][a]\n",
        "                    letter = desc[row, col]\n",
        "                    if letter in b'GH':\n",
        "                        li.append((1.0, s, 0, True))\n",
        "                    else:\n",
        "                        if is_slippery:\n",
        "                            for b in [(a-1)%4, a, (a+1)%4]:\n",
        "                                newrow, newcol = inc(row, col, b)\n",
        "                                newstate = to_s(newrow, newcol)\n",
        "                                newletter = desc[newrow, newcol]\n",
        "                                done = bytes(newletter) in b'GH'\n",
        "                                rew = float(newletter == b'G')\n",
        "                                li.append((1.0/3.0, newstate, rew, done))\n",
        "                        else:\n",
        "                            newrow, newcol = inc(row, col, a)\n",
        "                            newstate = to_s(newrow, newcol)\n",
        "                            newletter = desc[newrow, newcol]\n",
        "                            done = bytes(newletter) in b'GH'\n",
        "                            rew = float(newletter == b'G')\n",
        "                            li.append((1.0, newstate, rew, done))\n",
        "        \n",
        "        # obtain one-step dynamics for dynamic programming setting\n",
        "        self.P = P\n",
        "\n",
        "        super(FrozenLakeEnv, self).__init__(nS, nA, P, isd)\n",
        "\n",
        "    def _render(self, mode='human', close=False):\n",
        "        if close:\n",
        "            return\n",
        "        outfile = StringIO() if mode == 'ansi' else sys.stdout\n",
        "\n",
        "        row, col = self.s // self.ncol, self.s % self.ncol\n",
        "        desc = self.desc.tolist()\n",
        "        desc = [[c.decode('utf-8') for c in line] for line in desc]\n",
        "        desc[row][col] = utils.colorize(desc[row][col], \"red\", highlight=True)\n",
        "        if self.lastaction is not None:\n",
        "            outfile.write(\"  ({})\\n\".format([\"Left\",\"Down\",\"Right\",\"Up\"][self.lastaction]))\n",
        "        else:\n",
        "            outfile.write(\"\\n\")\n",
        "        outfile.write(\"\\n\".join(''.join(line) for line in desc)+\"\\n\")\n",
        "\n",
        "        if mode != 'human':\n",
        "            return outfile\n"
      ],
      "execution_count": 0,
      "outputs": []
    },
    {
      "cell_type": "code",
      "metadata": {
        "id": "55aAxrzOxIHH",
        "colab_type": "code",
        "colab": {}
      },
      "source": [
        "import gym\n",
        "import numpy as np\n",
        "import copy"
      ],
      "execution_count": 0,
      "outputs": []
    },
    {
      "cell_type": "code",
      "metadata": {
        "id": "cNRPnvScxK7x",
        "colab_type": "code",
        "colab": {}
      },
      "source": [
        "env = FrozenLakeEnv()\n"
      ],
      "execution_count": 0,
      "outputs": []
    },
    {
      "cell_type": "code",
      "metadata": {
        "id": "wM6c8nozxMyM",
        "colab_type": "code",
        "colab": {
          "base_uri": "https://localhost:8080/",
          "height": 86
        },
        "outputId": "15f8686d-53fd-4766-f6de-a0d10f4b6b09"
      },
      "source": [
        "print(env.observation_space)\n",
        "print(env.action_space)\n",
        "#total number os stats\n",
        "print(env.nS)\n",
        "print(env.nA)"
      ],
      "execution_count": 4,
      "outputs": [
        {
          "output_type": "stream",
          "text": [
            "Discrete(16)\n",
            "Discrete(4)\n",
            "16\n",
            "4\n"
          ],
          "name": "stdout"
        }
      ]
    },
    {
      "cell_type": "markdown",
      "metadata": {
        "id": "LVT209CEAa1k",
        "colab_type": "text"
      },
      "source": [
        "# Iterative Policy evaluation"
      ]
    },
    {
      "cell_type": "markdown",
      "metadata": {
        "id": "dmVwhrlENQuC",
        "colab_type": "text"
      },
      "source": [
        "![alt text](https://docs.google.com/drawings/d/e/2PACX-1vQ8g5QRtFDveIf-V8vcYNPQ3zueAwmlLFmwPUGwg8LwXcBzlcwHx5Rsxj-Chcvv7k0euSzjHbL68K1e/pub?w=960&h=720)"
      ]
    },
    {
      "cell_type": "code",
      "metadata": {
        "id": "PS7dWqLlxTqM",
        "colab_type": "code",
        "colab": {}
      },
      "source": [
        "def policy_evaluation(env, policy, gamma =1 , theta=1e-8):\n",
        "    V = np.zeros(env.nS)\n",
        "    while True:\n",
        "        delta = 0\n",
        "        for each_state in range(env.nS):\n",
        "            Vs = 0\n",
        "            for action, action_prob in enumerate(policy[each_state]):\n",
        "                for prob, next_state, imediate_reward, done in env.P[each_state][action]:\n",
        "                    Vs += action_prob * prob * (imediate_reward + gamma* V[next_state])\n",
        "                    \n",
        "            delta = max(delta, np.abs(V[each_state] - Vs))\n",
        "            V[each_state] = Vs\n",
        "        if delta < theta:\n",
        "            break\n",
        "    return V\n",
        "                    \n",
        "                    \n",
        "                "
      ],
      "execution_count": 0,
      "outputs": []
    },
    {
      "cell_type": "code",
      "metadata": {
        "id": "z3hRYdNAxXF1",
        "colab_type": "code",
        "colab": {}
      },
      "source": [
        "random_policy = np.ones([env.nS, env.nA]) / env.nA\n"
      ],
      "execution_count": 0,
      "outputs": []
    },
    {
      "cell_type": "code",
      "metadata": {
        "id": "hw7O8J_XxY5B",
        "colab_type": "code",
        "colab": {}
      },
      "source": [
        "V = policy_evaluation(env, random_policy)"
      ],
      "execution_count": 0,
      "outputs": []
    },
    {
      "cell_type": "code",
      "metadata": {
        "id": "MDPRPHXDxag3",
        "colab_type": "code",
        "colab": {
          "base_uri": "https://localhost:8080/",
          "height": 86
        },
        "outputId": "299dc706-a541-4ddd-922e-6832d2a8f0d7"
      },
      "source": [
        "V"
      ],
      "execution_count": 18,
      "outputs": [
        {
          "output_type": "execute_result",
          "data": {
            "text/plain": [
              "array([0.01393977, 0.01163091, 0.02095297, 0.01047648, 0.01624865,\n",
              "       0.        , 0.04075153, 0.        , 0.03480619, 0.08816993,\n",
              "       0.14205316, 0.        , 0.        , 0.17582037, 0.43929118,\n",
              "       0.        ])"
            ]
          },
          "metadata": {
            "tags": []
          },
          "execution_count": 18
        }
      ]
    },
    {
      "cell_type": "code",
      "metadata": {
        "id": "jCZL1wSs7mI5",
        "colab_type": "code",
        "colab": {}
      },
      "source": [
        "import matplotlib.pyplot as plt\n",
        "\n",
        "def plot(V):\n",
        "    V_sq = np.reshape(V, (4,4))\n",
        "    #plotting\n",
        "    figure = plt.figure(figsize = (6,6))\n",
        "    axis = figure.add_subplot(111)\n",
        "    im = axis.imshow(V_sq, cmap = 'cool')\n",
        "    for (j,i), label in np.ndenumerate(V_sq):\n",
        "        axis.text(i ,j , np.round(label, 5), ha ='center', va ='center', fontsize =14)\n",
        "    \n",
        "    #plt.tick_params(bottom=False, left =False, labelbottom = False, labellefft= False)\n",
        "    plt.title('State-Value Function')\n",
        "    plt.show()"
      ],
      "execution_count": 0,
      "outputs": []
    },
    {
      "cell_type": "code",
      "metadata": {
        "id": "hLcqXUrq8Dua",
        "colab_type": "code",
        "colab": {
          "base_uri": "https://localhost:8080/",
          "height": 390
        },
        "outputId": "7d57f8c8-dbda-4e4b-97a4-68e5cea0368c"
      },
      "source": [
        "plot(V)"
      ],
      "execution_count": 40,
      "outputs": [
        {
          "output_type": "display_data",
          "data": {
            "image/png": "[encoded data removed]",
            "text/plain": [
              "<Figure size 432x432 with 1 Axes>"
            ]
          },
          "metadata": {
            "tags": []
          }
        }
      ]
    },
    {
      "cell_type": "code",
      "metadata": {
        "id": "AwXcAVMS8G9b",
        "colab_type": "code",
        "colab": {}
      },
      "source": [
        "# Obtaining q value from v \n",
        "# obtainf action value from sate value \n",
        "# the function takes the argeument  as enviroment, state (each sate has different actions up, down, keft ,right) and gamma\n"
      ],
      "execution_count": 0,
      "outputs": []
    },
    {
      "cell_type": "markdown",
      "metadata": {
        "id": "KQ5VaEfhAfZD",
        "colab_type": "text"
      },
      "source": [
        "# obtain Q from V\n",
        "## Obtain Action values for each state from state Values\n",
        "\n"
      ]
    },
    {
      "cell_type": "markdown",
      "metadata": {
        "id": "5MgqBtu-NpUR",
        "colab_type": "text"
      },
      "source": [
        "![alt text](https://docs.google.com/drawings/d/e/2PACX-1vQpmuUfrf4cqrU3hvumN8y9jf9GdNjUqUPgmFvJaHj-OlP9w50qYR_09WkMdlh3DBcjBlLeMa5Igzkf/pub?w=960&h=720)"
      ]
    },
    {
      "cell_type": "code",
      "metadata": {
        "id": "nQzmLGaO9NVT",
        "colab_type": "code",
        "colab": {}
      },
      "source": [
        "def q_value_from_v(env, V, s, gamma = 1):\n",
        "    q = np.zeros(env.nA)\n",
        "    for a in range(env.nA):\n",
        "        for prob, next_state, reward, done in env.P[s][a]:\n",
        "            q[a] += prob *(reward + gamma *V[next_state])\n",
        "    return q"
      ],
      "execution_count": 0,
      "outputs": []
    },
    {
      "cell_type": "code",
      "metadata": {
        "id": "bnUX71Kw9O-m",
        "colab_type": "code",
        "colab": {
          "base_uri": "https://localhost:8080/",
          "height": 312
        },
        "outputId": "bdabc8ac-a9d4-4e66-fd3c-47996c63aa0e"
      },
      "source": [
        "Q = np.zeros([env.nS, env.nA])\n",
        "for s in range(env.nS):\n",
        "  Q[s] = q_value_from_v(env, V, s)\n",
        "print(\"action value function\")\n",
        "print(Q)"
      ],
      "execution_count": 43,
      "outputs": [
        {
          "output_type": "stream",
          "text": [
            "action value function\n",
            "[[0.0147094  0.01393978 0.01393978 0.01317015]\n",
            " [0.00852356 0.01163091 0.0108613  0.01550788]\n",
            " [0.02444514 0.02095298 0.02406033 0.01435346]\n",
            " [0.01047649 0.01047649 0.00698432 0.01396865]\n",
            " [0.02166487 0.01701828 0.01624865 0.01006281]\n",
            " [0.         0.         0.         0.        ]\n",
            " [0.05433538 0.04735105 0.05433538 0.00698432]\n",
            " [0.         0.         0.         0.        ]\n",
            " [0.01701828 0.04099204 0.03480619 0.04640826]\n",
            " [0.07020885 0.11755991 0.10595784 0.05895312]\n",
            " [0.18940421 0.17582037 0.16001424 0.04297382]\n",
            " [0.         0.         0.         0.        ]\n",
            " [0.         0.         0.         0.        ]\n",
            " [0.08799677 0.20503718 0.23442716 0.17582037]\n",
            " [0.25238823 0.53837051 0.52711478 0.43929118]\n",
            " [0.         0.         0.         0.        ]]\n"
          ],
          "name": "stdout"
        }
      ]
    },
    {
      "cell_type": "code",
      "metadata": {
        "id": "-1GajKLJ9h5d",
        "colab_type": "code",
        "colab": {
          "base_uri": "https://localhost:8080/",
          "height": 86
        },
        "outputId": "a8e74a50-36a4-484c-baaf-7be80f96dcd6"
      },
      "source": [
        "V"
      ],
      "execution_count": 50,
      "outputs": [
        {
          "output_type": "execute_result",
          "data": {
            "text/plain": [
              "array([0.01393977, 0.01163091, 0.02095297, 0.01047648, 0.01624865,\n",
              "       0.        , 0.04075153, 0.        , 0.03480619, 0.08816993,\n",
              "       0.14205316, 0.        , 0.        , 0.17582037, 0.43929118,\n",
              "       0.        ])"
            ]
          },
          "metadata": {
            "tags": []
          },
          "execution_count": 50
        }
      ]
    },
    {
      "cell_type": "markdown",
      "metadata": {
        "id": "xU8XGd0b_zSI",
        "colab_type": "text"
      },
      "source": [
        "# Policy Improvement\n",
        "\n",
        "It is a very simple algorimt where we find the best policy from action values computed."
      ]
    },
    {
      "cell_type": "markdown",
      "metadata": {
        "id": "I1QpeGCaN528",
        "colab_type": "text"
      },
      "source": [
        "![alt text](https://docs.google.com/drawings/d/e/2PACX-1vS_h8y9eC0neqwmQhZhk2BRYL_S7vlGfBmWr86xJNmPFOfsjAKfeRDCirQ9Kp5zwRk82N5ej46AiHvE/pub?w=960&h=720)"
      ]
    },
    {
      "cell_type": "code",
      "metadata": {
        "id": "tNSsR9Kq_0-p",
        "colab_type": "code",
        "colab": {}
      },
      "source": [
        "def policy_improvement(env, V, gamma =1):\n",
        "  policy = np.zeros([env.nS, env.nA])  / env.nA\n",
        "  for each_state in range(env.nS):\n",
        "    q = q_value_from_v(env,V,s, gamma)\n",
        "    best_a = np.argwhere(q == np.max(q)).flatten()\n",
        "    #print(best_a)\n",
        "    # stochastic policy\n",
        "    \n",
        "    policy[each_state] =  np.sum([np.eye(env.nA)[i] for i in best_a], axis=0)/len(best_a)\n",
        "    #print(policy[each_state])\n",
        "\n",
        "  return policy"
      ],
      "execution_count": 0,
      "outputs": []
    },
    {
      "cell_type": "code",
      "metadata": {
        "id": "RtpeVZSICAIv",
        "colab_type": "code",
        "colab": {
          "base_uri": "https://localhost:8080/",
          "height": 295
        },
        "outputId": "a61ceb86-2679-4a27-809b-4cc045c0e7fc"
      },
      "source": [
        "policy_improvement(env,V)"
      ],
      "execution_count": 54,
      "outputs": [
        {
          "output_type": "execute_result",
          "data": {
            "text/plain": [
              "array([[0.25, 0.25, 0.25, 0.25],\n",
              "       [0.25, 0.25, 0.25, 0.25],\n",
              "       [0.25, 0.25, 0.25, 0.25],\n",
              "       [0.25, 0.25, 0.25, 0.25],\n",
              "       [0.25, 0.25, 0.25, 0.25],\n",
              "       [0.25, 0.25, 0.25, 0.25],\n",
              "       [0.25, 0.25, 0.25, 0.25],\n",
              "       [0.25, 0.25, 0.25, 0.25],\n",
              "       [0.25, 0.25, 0.25, 0.25],\n",
              "       [0.25, 0.25, 0.25, 0.25],\n",
              "       [0.25, 0.25, 0.25, 0.25],\n",
              "       [0.25, 0.25, 0.25, 0.25],\n",
              "       [0.25, 0.25, 0.25, 0.25],\n",
              "       [0.25, 0.25, 0.25, 0.25],\n",
              "       [0.25, 0.25, 0.25, 0.25],\n",
              "       [0.25, 0.25, 0.25, 0.25]])"
            ]
          },
          "metadata": {
            "tags": []
          },
          "execution_count": 54
        }
      ]
    },
    {
      "cell_type": "markdown",
      "metadata": {
        "id": "ZLJMWhjfEuHc",
        "colab_type": "text"
      },
      "source": [
        "# Policy Iteration"
      ]
    },
    {
      "cell_type": "markdown",
      "metadata": {
        "id": "12ucj3S0OJit",
        "colab_type": "text"
      },
      "source": [
        "![alt text](https://docs.google.com/drawings/d/e/2PACX-1vSYhGpMYmfc9LV7UlhaS9ZCyRZqzzznJPiT6Grix1f1x2KEeRaoZX0GTJRMMfyLXgD8c5lRvYAc5ooG/pub?w=960&h=720)"
      ]
    },
    {
      "cell_type": "code",
      "metadata": {
        "id": "b60pfacyEtCP",
        "colab_type": "code",
        "colab": {}
      },
      "source": [
        "def polcy_iterattion(env,gamma=1, theta = 1e-8):\n",
        "  policy = np.ones([env.nS, env.nA]) / env.nA\n",
        "  while True:\n",
        "    V = policy_evaluation(env, policy, gamma, theta)\n",
        "    new_policy = policy_improvement(env,V)\n",
        "    # if policy is not improved then break\n",
        "    if (new_policy == policy).all():\n",
        "      break\n",
        "    policy = copy.copy(new_policy)\n",
        "\n",
        "  return policy, V"
      ],
      "execution_count": 0,
      "outputs": []
    },
    {
      "cell_type": "code",
      "metadata": {
        "id": "Mh3A7weBFbfi",
        "colab_type": "code",
        "colab": {
          "base_uri": "https://localhost:8080/",
          "height": 364
        },
        "outputId": "07143394-60f3-4070-a26f-a6531beffdcc"
      },
      "source": [
        "polcy_iterattion(env)"
      ],
      "execution_count": 57,
      "outputs": [
        {
          "output_type": "execute_result",
          "data": {
            "text/plain": [
              "(array([[0.25, 0.25, 0.25, 0.25],\n",
              "        [0.25, 0.25, 0.25, 0.25],\n",
              "        [0.25, 0.25, 0.25, 0.25],\n",
              "        [0.25, 0.25, 0.25, 0.25],\n",
              "        [0.25, 0.25, 0.25, 0.25],\n",
              "        [0.25, 0.25, 0.25, 0.25],\n",
              "        [0.25, 0.25, 0.25, 0.25],\n",
              "        [0.25, 0.25, 0.25, 0.25],\n",
              "        [0.25, 0.25, 0.25, 0.25],\n",
              "        [0.25, 0.25, 0.25, 0.25],\n",
              "        [0.25, 0.25, 0.25, 0.25],\n",
              "        [0.25, 0.25, 0.25, 0.25],\n",
              "        [0.25, 0.25, 0.25, 0.25],\n",
              "        [0.25, 0.25, 0.25, 0.25],\n",
              "        [0.25, 0.25, 0.25, 0.25],\n",
              "        [0.25, 0.25, 0.25, 0.25]]),\n",
              " array([0.01393977, 0.01163091, 0.02095297, 0.01047648, 0.01624865,\n",
              "        0.        , 0.04075153, 0.        , 0.03480619, 0.08816993,\n",
              "        0.14205316, 0.        , 0.        , 0.17582037, 0.43929118,\n",
              "        0.        ]))"
            ]
          },
          "metadata": {
            "tags": []
          },
          "execution_count": 57
        }
      ]
    },
    {
      "cell_type": "markdown",
      "metadata": {
        "id": "rMao9Nt3GX2m",
        "colab_type": "text"
      },
      "source": [
        "# Truncated Policy Iteration"
      ]
    },
    {
      "cell_type": "markdown",
      "metadata": {
        "id": "M_myiUEdOX1V",
        "colab_type": "text"
      },
      "source": [
        "![alt text](https://docs.google.com/drawings/d/e/2PACX-1vRg3Z6N6ybnKixMHXc4seamtkl-RTN_qN-VuI3SbhS1TBujyMtAdDgyhbMWhZ0TU6-gy8D-NC8FfFT_/pub?w=960&h=720)"
      ]
    },
    {
      "cell_type": "code",
      "metadata": {
        "id": "Jc46Hz7NFgDc",
        "colab_type": "code",
        "colab": {}
      },
      "source": [
        "def truncated_policy_eval(env, policy,V, max_it =1, gamma =1 ):\n",
        "  num_it = 0\n",
        "  while num_it < max_it:\n",
        "    for s in range(env.nS):\n",
        "      v = 0\n",
        "      q = q_value_from_v(env, V, s, gamma)\n",
        "      for a, action_prob in enumerate(policy[s]):\n",
        "        v += action_prob * q[a]\n",
        "      V[s] =v \n",
        "    num_it +=1 \n",
        "\n",
        "  return V\n"
      ],
      "execution_count": 0,
      "outputs": []
    },
    {
      "cell_type": "code",
      "metadata": {
        "id": "z7idmlw-HCRK",
        "colab_type": "code",
        "colab": {}
      },
      "source": [
        "def truncated_policy_iter(env, max_it =1, gamma =1 , theta = 1e-8):\n",
        "  V = np.zeros(env.nS)\n",
        "  policy = np.zeros([env.nS], env.nA)/ env.nA\n",
        "  while true:\n",
        "    polciy = policy_improvement(env,V)\n",
        "    old_V = copy.copy(V)\n",
        "    V = truncated_policy_eval(env, policy, V,max_it, gamma )\n",
        "    if max(abs(V - old_V)):\n",
        "      break\n",
        "  return policy, V"
      ],
      "execution_count": 0,
      "outputs": []
    },
    {
      "cell_type": "markdown",
      "metadata": {
        "id": "5IFhA1pwKTKS",
        "colab_type": "text"
      },
      "source": [
        "# Value iteration\n",
        "![alt text](https://docs.google.com/drawings/d/e/2PACX-1vTMSSL9SfEpcSYCwwMwphnz22xKHu5tDdzu6TSTV3a9ZWpnZ0WPioRfvp9Wx8TtOy3h6P5ox_TZwQvt/pub?w=960&h=720)"
      ]
    },
    {
      "cell_type": "code",
      "metadata": {
        "id": "cdbNFDgiHp_J",
        "colab_type": "code",
        "colab": {}
      },
      "source": [
        "def value_iteration(env, gamma=1, theta=1e-8):\n",
        "  V  = np.zeros(env.nS)\n",
        "  while True:\n",
        "    delta =0 \n",
        "    for s in range(env.nS):\n",
        "      v = V[s]\n",
        "      V[s] = max(q_value_from_v(env, V, s, gamma))\n",
        "      delta = max(delta, abs(V[s] - v))\n",
        "    if delta < theta:\n",
        "      break\n",
        "  policy = policy_improvement(env, V, gamma)\n",
        "  return  policy, V\n"
      ],
      "execution_count": 0,
      "outputs": []
    },
    {
      "cell_type": "code",
      "metadata": {
        "id": "a7l4Wmr2Loyb",
        "colab_type": "code",
        "colab": {}
      },
      "source": [
        "policy_vi , V_vi = value_iteration(env)\n"
      ],
      "execution_count": 0,
      "outputs": []
    },
    {
      "cell_type": "code",
      "metadata": {
        "id": "aF4IgpamL39f",
        "colab_type": "code",
        "colab": {
          "base_uri": "https://localhost:8080/",
          "height": 390
        },
        "outputId": "532fff24-06a8-41d7-8f46-a44573564c8a"
      },
      "source": [
        "plot(V_vi)"
      ],
      "execution_count": 64,
      "outputs": [
        {
          "output_type": "display_data",
          "data": {
            "image/png": "[encoded data removed]",
            "text/plain": [
              "<Figure size 432x432 with 1 Axes>"
            ]
          },
          "metadata": {
            "tags": []
          }
        }
      ]
    },
    {
      "cell_type": "code",
      "metadata": {
        "id": "039nO9a8L_bp",
        "colab_type": "code",
        "colab": {}
      },
      "source": [
        ""
      ],
      "execution_count": 0,
      "outputs": []
    }
  ]
}